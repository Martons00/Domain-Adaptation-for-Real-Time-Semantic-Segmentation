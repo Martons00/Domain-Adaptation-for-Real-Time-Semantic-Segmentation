{
  "nbformat": 4,
  "nbformat_minor": 0,
  "metadata": {
    "colab": {
      "provenance": [],
      "gpuType": "T4"
    },
    "kernelspec": {
      "name": "python3",
      "display_name": "Python 3"
    },
    "language_info": {
      "name": "python"
    },
    "accelerator": "GPU"
  },
  "cells": [
    {
      "cell_type": "code",
      "source": [
        "# Monta Google Drive\n",
        "from google.colab import drive\n",
        "drive.mount('/content/drive')"
      ],
      "metadata": {
        "id": "jS3WCZxu6KWc"
      },
      "execution_count": null,
      "outputs": []
    },
    {
      "cell_type": "code",
      "source": [
        "!pip install torch\n",
        "!pip install numpy\n",
        "!pip install tensorboardX\n",
        "!pip install opencv-python\n",
        "!pip install Pillow\n",
        "!pip install yacs\n",
        "!pip install tqdm\n",
        "!pip install thop"
      ],
      "metadata": {
        "id": "E-EBAY2-PX4b"
      },
      "execution_count": null,
      "outputs": []
    },
    {
      "cell_type": "code",
      "source": [
        "!git clone https://github.com/LucaIanniello/AML2024"
      ],
      "metadata": {
        "id": "4qvQwUMjTRRa"
      },
      "execution_count": null,
      "outputs": []
    },
    {
      "cell_type": "code",
      "source": [
        "import os\n",
        "import zipfile\n",
        "import subprocess\n",
        "\n",
        "# Funzione per scaricare un file e decomprimerlo\n",
        "def download_and_extract(url, zip_path, extract_path):\n",
        "    # Se il file ZIP esiste già, non scaricarlo di nuovo\n",
        "    if not os.path.exists(zip_path):\n",
        "        print(f\"Downloading {url} to {zip_path}...\")\n",
        "        # Scarica il file usando curl\n",
        "        try:\n",
        "            subprocess.run([\"curl\", \"-L\", \"-o\", zip_path, url], check=True)\n",
        "        except subprocess.CalledProcessError as e:\n",
        "            print(f\"Error downloading file: {e}\")\n",
        "            return\n",
        "\n",
        "    # Crea la directory di estrazione se non esiste\n",
        "    os.makedirs(extract_path, exist_ok=True)\n",
        "\n",
        "    # Estrai il file ZIP\n",
        "    try:\n",
        "        with zipfile.ZipFile(zip_path, 'r') as zip_ref:\n",
        "            zip_ref.extractall(extract_path)\n",
        "        print(f\"Extracted files to {extract_path}\")\n",
        "    except zipfile.BadZipFile as e:\n",
        "        print(f\"Error extracting {zip_path}: {e}\")\n",
        "        return\n",
        "\n",
        "    # Elenca i file estratti\n",
        "    extracted_files = os.listdir(extract_path)\n",
        "    print(f\"Extracted files in {extract_path}:\", extracted_files)\n",
        "\n",
        "# Percorsi principali\n",
        "base_dir = os.path.expanduser(\"AML2024/PIDNet/data/loveDa\")\n",
        "\n",
        "# Crea la directory base se non esiste\n",
        "os.makedirs(base_dir, exist_ok=True)\n",
        "\n",
        "# Dataset Val\n",
        "val_url = \"https://zenodo.org/records/5706578/files/Val.zip?download=1\"\n",
        "val_zip_path = os.path.join(base_dir, \"Val.zip\")\n",
        "val_extract_path = os.path.join(base_dir, \"\")\n",
        "download_and_extract(val_url, val_zip_path, val_extract_path)\n",
        "\n",
        "# Dataset Train\n",
        "train_url = \"https://zenodo.org/records/5706578/files/Train.zip?download=1\"\n",
        "train_zip_path = os.path.join(base_dir, \"Train.zip\")\n",
        "train_extract_path = os.path.join(base_dir, \"\")\n",
        "download_and_extract(train_url, train_zip_path, train_extract_path)"
      ],
      "metadata": {
        "id": "Kn4aqFfZTP7v"
      },
      "execution_count": null,
      "outputs": []
    },
    {
      "cell_type": "code",
      "source": [
        "import torch\n",
        "import sys\n",
        "\n",
        "def get_gpu_info():\n",
        "    # Verifica se CUDA è disponibile\n",
        "    cuda_available = torch.cuda.is_available()\n",
        "    print(f\"CUDA è disponibile: {cuda_available}\")\n",
        "\n",
        "    if cuda_available:\n",
        "        # Numero di GPU disponibili\n",
        "        gpu_count = torch.cuda.device_count()\n",
        "        print(f\"\\nNumero di GPU disponibili: {gpu_count}\")\n",
        "\n",
        "        # Informazioni per ogni GPU\n",
        "        for i in range(gpu_count):\n",
        "            print(f\"\\nDettagli GPU {i}:\")\n",
        "            print(f\"Nome: {torch.cuda.get_device_name(i)}\")\n",
        "            print(f\"Memoria totale: {torch.cuda.get_device_properties(i).total_memory / 1024**2:.0f} MB\")\n",
        "            print(f\"Compute capability: {torch.cuda.get_device_properties(i).major}.{torch.cuda.get_device_properties(i).minor}\")\n",
        "\n",
        "        # GPU corrente\n",
        "        print(f\"\\nGPU corrente: {torch.cuda.current_device()}\")\n",
        "\n",
        "        # Versione CUDA\n",
        "        print(f\"Versione CUDA: {torch.version.cuda}\")\n",
        "\n",
        "    # Versione PyTorch\n",
        "    print(f\"\\nVersione PyTorch: {torch.__version__}\")\n",
        "    print(f\"Versione Python: {sys.version.split()[0]}\")\n",
        "\n",
        "if __name__ == \"__main__\":\n",
        "    get_gpu_info()\n"
      ],
      "metadata": {
        "id": "-YSejMFpcFPu"
      },
      "execution_count": null,
      "outputs": []
    },
    {
      "cell_type": "code",
      "source": [
        "import os\n",
        "\n",
        "# Ottieni il percorso corrente\n",
        "current_path = os.getcwd()\n",
        "print(current_path)\n",
        "\n",
        "# Cambia directory\n",
        "os.chdir('AML2024/PIDNet')\n",
        "\n",
        "# Ottieni il nuovo percorso\n",
        "current_path = os.getcwd()\n",
        "print(current_path)\n"
      ],
      "metadata": {
        "id": "A-bSgnhGc3g0"
      },
      "execution_count": null,
      "outputs": []
    },
    {
      "cell_type": "code",
      "source": [
        "# Ottieni il nuovo percorso\n",
        "current_path = os.getcwd()\n",
        "print(current_path)\n",
        "!python tools/train_ADV.py --cfg configs/loveda/pidnet_small_loveda_train_AVD.yaml GPUS \"[0]\" TRAIN.BATCH_SIZE_PER_GPU 6\n"
      ],
      "metadata": {
        "id": "Vhny-u4YTe25"
      },
      "execution_count": null,
      "outputs": []
    },
    {
      "cell_type": "code",
      "source": [
        "\n",
        "# Importa le librerie necessarie\n",
        "import shutil\n",
        "import os\n",
        "\n",
        "# Definisci i percorsi\n",
        "source_path = '/content/AML2024/PIDNet/output/loveDa/pidnet_small_loveda_train_AVD'  # Percorso della cartella locale in Colab\n",
        "destination_path = '/content/drive/My Drive/pidnet_small_loveda_train_AVD'  # Percorso destinazione su Drive\n",
        "\n",
        "# Crea la cartella di destinazione se non esiste\n",
        "os.makedirs(destination_path, exist_ok=True)\n",
        "\n",
        "# Copia la cartella e tutto il suo contenuto\n",
        "shutil.copytree(source_path, destination_path, dirs_exist_ok=True)\n",
        "# Verifica i file copiati\n",
        "!ls \"/content/drive/My Drive/pidnet_small_loveda_train_AVD\"\n",
        "\n"
      ],
      "metadata": {
        "id": "DwFQXolWKV2r"
      },
      "execution_count": null,
      "outputs": []
    }
  ]
}