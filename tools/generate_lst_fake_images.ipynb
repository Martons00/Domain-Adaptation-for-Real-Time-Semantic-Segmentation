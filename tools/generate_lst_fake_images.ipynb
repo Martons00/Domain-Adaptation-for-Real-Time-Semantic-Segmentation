{
 "cells": [
  {
   "cell_type": "code",
   "execution_count": 4,
   "metadata": {},
   "outputs": [
    {
     "name": "stdout",
     "output_type": "stream",
     "text": [
      "Requirement already satisfied: gdown in c:\\users\\siric\\appdata\\local\\programs\\python\\python311\\lib\\site-packages (5.2.0)Note: you may need to restart the kernel to use updated packages.\n",
      "\n",
      "Requirement already satisfied: beautifulsoup4 in c:\\users\\siric\\appdata\\local\\programs\\python\\python311\\lib\\site-packages (from gdown) (4.12.2)\n",
      "Requirement already satisfied: filelock in c:\\users\\siric\\appdata\\local\\programs\\python\\python311\\lib\\site-packages (from gdown) (3.16.1)\n",
      "Requirement already satisfied: requests[socks] in c:\\users\\siric\\appdata\\local\\programs\\python\\python311\\lib\\site-packages (from gdown) (2.28.2)\n",
      "Requirement already satisfied: tqdm in c:\\users\\siric\\appdata\\local\\programs\\python\\python311\\lib\\site-packages (from gdown) (4.65.0)\n",
      "Requirement already satisfied: soupsieve>1.2 in c:\\users\\siric\\appdata\\local\\programs\\python\\python311\\lib\\site-packages (from beautifulsoup4->gdown) (2.4.1)\n",
      "Requirement already satisfied: charset-normalizer<4,>=2 in c:\\users\\siric\\appdata\\local\\programs\\python\\python311\\lib\\site-packages (from requests[socks]->gdown) (3.1.0)\n",
      "Requirement already satisfied: idna<4,>=2.5 in c:\\users\\siric\\appdata\\local\\programs\\python\\python311\\lib\\site-packages (from requests[socks]->gdown) (3.4)\n",
      "Requirement already satisfied: urllib3<1.27,>=1.21.1 in c:\\users\\siric\\appdata\\local\\programs\\python\\python311\\lib\\site-packages (from requests[socks]->gdown) (1.26.15)\n",
      "Requirement already satisfied: certifi>=2017.4.17 in c:\\users\\siric\\appdata\\local\\programs\\python\\python311\\lib\\site-packages (from requests[socks]->gdown) (2022.12.7)\n",
      "Requirement already satisfied: PySocks!=1.5.7,>=1.5.6 in c:\\users\\siric\\appdata\\local\\programs\\python\\python311\\lib\\site-packages (from requests[socks]->gdown) (1.7.1)\n",
      "Requirement already satisfied: colorama in c:\\users\\siric\\appdata\\local\\programs\\python\\python311\\lib\\site-packages (from tqdm->gdown) (0.4.6)\n"
     ]
    },
    {
     "name": "stderr",
     "output_type": "stream",
     "text": [
      "\n",
      "[notice] A new release of pip is available: 24.0 -> 24.3.1\n",
      "[notice] To update, run: python.exe -m pip install --upgrade pip\n"
     ]
    },
    {
     "name": "stdout",
     "output_type": "stream",
     "text": [
      "Note: you may need to restart the kernel to use updated packages.\n"
     ]
    },
    {
     "name": "stderr",
     "output_type": "stream",
     "text": [
      "ERROR: Could not find a version that satisfies the requirement os (from versions: none)\n",
      "ERROR: No matching distribution found for os\n",
      "\n",
      "[notice] A new release of pip is available: 24.0 -> 24.3.1\n",
      "[notice] To update, run: python.exe -m pip install --upgrade pip\n"
     ]
    }
   ],
   "source": [
    "%pip install gdown\n",
    "%pip install os\n"
   ]
  },
  {
   "cell_type": "code",
   "execution_count": null,
   "metadata": {},
   "outputs": [],
   "source": [
    "import os\n",
    "import subprocess\n",
    "\n",
    "# Funzione per scaricare un file e decomprimerlo\n",
    "def download_and_extract(url, rar_path, extract_path):\n",
    "    # Se il file RAR esiste già, non scaricarlo di nuovo\n",
    "    if not os.path.exists(rar_path):\n",
    "        print(f\"Downloading {url} to {rar_path}...\")\n",
    "        # Scarica il file usando curl\n",
    "        try:\n",
    "            subprocess.run([\"curl\", \"-L\", \"-o\", rar_path, url], check=True)\n",
    "        except subprocess.CalledProcessError as e:\n",
    "            print(f\"Error downloading file: {e}\")\n",
    "            return\n",
    "\n",
    "    # Crea la directory di estrazione se non esiste\n",
    "    os.makedirs(extract_path, exist_ok=True)\n",
    "\n",
    "    # Estrai il file RAR usando unrar\n",
    "    try:\n",
    "        subprocess.run([\"unrar\", \"x\", rar_path, extract_path], check=True)\n",
    "        print(f\"Extracted files to {extract_path}\")\n",
    "    except subprocess.CalledProcessError as e:\n",
    "        print(f\"Error extracting {rar_path}: {e}\")\n",
    "        return\n",
    "\n",
    "    # Elenca i file estratti\n",
    "    extracted_files = os.listdir(extract_path)\n",
    "    print(f\"Extracted files in {extract_path}:\", extracted_files)\n",
    "\n",
    "# Percorsi principali\n",
    "base_dir = os.path.expanduser(\"AML2024/PIDNet/data/loveDa\")\n",
    "\n",
    "# Crea la directory base se non esiste\n",
    "os.makedirs(base_dir, exist_ok=True)\n",
    "\n",
    "# Dataset Val\n",
    "val_url = \"https://zenodo.org/records/14739456/files/cycleGAN_only_fake.rar?download=1\"\n",
    "val_rar_path = os.path.join(base_dir, \"cycleGAN_only_fake.rar\")\n",
    "val_extract_path = os.path.join(base_dir, \"\")\n",
    "download_and_extract(val_url, val_rar_path, val_extract_path)\n"
   ]
  },
  {
   "cell_type": "code",
   "execution_count": 20,
   "metadata": {},
   "outputs": [],
   "source": [
    "import os\n",
    "# https://drive.google.com/drive/folders/1cRtkWyXsnMFAJA31UNtCSCgN42WEhMz1?usp=drive_link\n",
    "\n",
    "def genera_lista_file_due_cartelle(folder1, folder2, output_file):\n",
    "    \"\"\"\n",
    "    Genera un file .lst contenente i percorsi relativi dei file di due cartelle,\n",
    "    associati riga per riga nel formato:\n",
    "    /nome_prime_folder/file \\t /nome_secondo_folder/file\n",
    "\n",
    "    Args:\n",
    "        folder1 (str): Percorso della prima cartella.\n",
    "        folder2 (str): Percorso della seconda cartella.\n",
    "        output_file (str): Nome del file .lst da generare.\n",
    "    \"\"\"\n",
    "    # Controlla se i percorsi forniti sono directory valide\n",
    "    if not os.path.isdir(folder1):\n",
    "        raise ValueError(f\"Il percorso {folder1} non è una directory valida.\")\n",
    "    if not os.path.isdir(folder2):\n",
    "        raise ValueError(f\"Il percorso {folder2} non è una directory valida.\")\n",
    "\n",
    "    # Ottieni la lista dei file in entrambe le cartelle, ordinata alfabeticamente\n",
    "    files_folder1 = sorted(os.listdir(folder1))\n",
    "    files_folder2 = sorted(os.listdir(folder2))\n",
    "\n",
    "    # Controlla che le due cartelle abbiano lo stesso numero di file\n",
    "    if len(files_folder1) != len(files_folder2):\n",
    "        raise ValueError(\"Le due cartelle non contengono lo stesso numero di file.\")\n",
    "\n",
    "    # Ottieni la parte comune del percorso da rimuovere\n",
    "    common_prefix = 'PIDNet/data/loveDa/'\n",
    "\n",
    "    # Apri il file di output in modalità scrittura\n",
    "    with open(output_file, 'w') as f:\n",
    "        # Itera sui file delle due cartelle\n",
    "        for file1, file2 in zip(files_folder1, files_folder2):\n",
    "            # Costruisci i percorsi completi dei file\n",
    "            full_path1 = os.path.join(folder1, file1)\n",
    "            full_path2 = os.path.join(folder2, file2)\n",
    "\n",
    "            # Verifica che entrambi siano file (ignora le sottodirectory)\n",
    "            if os.path.isfile(full_path1) and os.path.isfile(full_path2):\n",
    "                # Rimuovi la parte comune dal percorso e uniforma il separatore\n",
    "                relative_path1 = full_path1.replace(common_prefix, '').replace(os.sep, '/')\n",
    "                relative_path2 = full_path2.replace(common_prefix, '').replace(os.sep, '/')\n",
    "\n",
    "                # Scrivi nel formato specificato nel file di output\n",
    "                f.write(f\"{relative_path1}\\t{relative_path2}\\n\")\n",
    "\n",
    "# Esempio di utilizzo\n",
    "folder1 = 'PIDNet/data/loveDa/cycleGAN_only_fake'  # Sostituisci con il percorso della prima cartella\n",
    "folder2 = 'PIDNet/data/loveDa/Train/Urban/masks_png'  # Sostituisci con il percorso della seconda cartella\n",
    "output = 'PIDNet/data/list/loveDa-Urban-Fake/train.lst'  # Nome del file di output\n",
    "genera_lista_file_due_cartelle(folder1, folder2, output)\n",
    "\n"
   ]
  }
 ],
 "metadata": {
  "kernelspec": {
   "display_name": "Python 3",
   "language": "python",
   "name": "python3"
  },
  "language_info": {
   "codemirror_mode": {
    "name": "ipython",
    "version": 3
   },
   "file_extension": ".py",
   "mimetype": "text/x-python",
   "name": "python",
   "nbconvert_exporter": "python",
   "pygments_lexer": "ipython3",
   "version": "3.11.3"
  }
 },
 "nbformat": 4,
 "nbformat_minor": 2
}
